{
 "cells": [
  {
   "cell_type": "markdown",
   "metadata": {},
   "source": [
    "## ML Challenge WS 2022/23\n",
    "\n",
    "#### Task:\n",
    "\n",
    "Your Task is to train a clickbait filter to classify clickbait articles by their headline. You freely decide how to prepare the data and which ML model to use for classification.\n",
    "\n",
    "The challenge is considered passed if your model performs better than our baseline (a simple classifier; F1 ~0.89). Report at least the F1 score of your classifier. Your model will be evaluated using a hold out dataset. Please prepare a script so your trained model can be evaluated with this dataset.\n",
    "\n",
    "#### Dataset:\n",
    "\n",
    "The data consists of two files, a text file with clickbait headlines and one with headlines from news sources. The hold out dataset is organized the same way."
   ]
  },
  {
   "cell_type": "code",
   "execution_count": 1,
   "metadata": {},
   "outputs": [
    {
     "data": {
      "text/plain": [
       "['Guys Try Tinder',\n",
       " 'Michael B. Jordan Got Laid The Fuck Out While Filming \"Creed\"',\n",
       " 'What\\'s The Most Fucked Up Thing You\\'ve Done On \"Rollercoaster Tycoon\"',\n",
       " 'How Far Would You Make It In The Hunger Games',\n",
       " \"If Matthew Gray Gubler's Tweets Were Motivational Posters\",\n",
       " \"Here's What Everyone Wore To The Glamour Women Of The Year Awards\",\n",
       " 'How Many Of These Black Sitcoms Have You Seen',\n",
       " '17 Reasons You Should Love Eddie Redmayne',\n",
       " \"Here's What Lady Gaga's Next Album Should Sound Like, According To Her Little Monsters\",\n",
       " 'Are These People Smiling At A Baby Or A Laptop']"
      ]
     },
     "execution_count": 1,
     "metadata": {},
     "output_type": "execute_result"
    }
   ],
   "source": [
    "with open('clickbait_yes') as f:\n",
    "    lines = [line.rstrip() for line in f]\n",
    "\n",
    "lines[0:10]"
   ]
  },
  {
   "cell_type": "markdown",
   "metadata": {},
   "source": [
    "#### Questions?\n",
    "\n",
    "[kuglerk@uni-trier.de](mailto:kuglerk@uni-trier.de?subject=ML%20Challenge%20NLU)"
   ]
  }
 ],
 "metadata": {
  "kernelspec": {
   "display_name": "Python 3 (ipykernel)",
   "language": "python",
   "name": "python3"
  },
  "language_info": {
   "codemirror_mode": {
    "name": "ipython",
    "version": 3
   },
   "file_extension": ".py",
   "mimetype": "text/x-python",
   "name": "python",
   "nbconvert_exporter": "python",
   "pygments_lexer": "ipython3",
   "version": "3.9.12"
  },
  "vscode": {
   "interpreter": {
    "hash": "974742b9e3f84bbfc2ab858fce40e48c160687419b819993149cbe09d34e2b28"
   }
  }
 },
 "nbformat": 4,
 "nbformat_minor": 4
}
